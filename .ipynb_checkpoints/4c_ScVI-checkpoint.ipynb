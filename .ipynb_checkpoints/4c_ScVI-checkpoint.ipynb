{
 "cells": [
  {
   "cell_type": "code",
   "execution_count": null,
   "metadata": {},
   "outputs": [],
   "source": [
    "import sys\n",
    "import matplotlib\n",
    "matplotlib.rcParams[\"pdf.fonttype\"] = 42\n",
    "matplotlib.rcParams[\"ps.fonttype\"] = 42\n",
    "import matplotlib.pyplot as plt\n",
    "from matplotlib.colors import LinearSegmentedColormap\n",
    "import seaborn as sns\n",
    "from datetime import datetime\n",
    "\n",
    "import numpy as np\n",
    "import numpy.random as random\n",
    "import pandas as pd\n",
    "import scanpy as sc\n",
    "import louvain\n",
    "import torch\n",
    "\n",
    "from scvi.dataset import Dataset10X, CsvDataset, AnnDatasetFromAnnData, CellMeasurement, LoomDataset, DownloadableAnnDataset\n",
    "from scvi.dataset.dataset import GeneExpressionDataset\n",
    "from scvi.inference import load_posterior, UnsupervisedTrainer\n",
    "from scvi.models import SCANVI, VAE\n",
    "from scvi import set_seed\n",
    "\n",
    "from umap import UMAP\n",
    "\n",
    "# Control UMAP numba warnings\n",
    "import warnings; warnings.simplefilter('ignore')\n",
    "\n",
    "%matplotlib inline\n",
    "\n",
    "set_seed(123)\n",
    "\n",
    "use_cuda = True\n",
    "show_plot = True\n",
    "test_mode = False\n",
    "sampleFolder = \"/PATH/TO/\""
   ]
  },
  {
   "cell_type": "markdown",
   "metadata": {},
   "source": [
    "# Load data"
   ]
  },
  {
   "cell_type": "markdown",
   "metadata": {},
   "source": [
    "###  Load Sample1"
   ]
  },
  {
   "cell_type": "code",
   "execution_count": null,
   "metadata": {},
   "outputs": [],
   "source": [
    "### Read RNA\n",
    "dataset1 = Dataset10X(\n",
    "    save_path=sampleFolder+\"PATH/TO/Sample1/\",\n",
    "    measurement_names_column=0,\n",
    ")\n",
    "dataset1"
   ]
  },
  {
   "cell_type": "markdown",
   "metadata": {},
   "source": [
    "### Load Sample2"
   ]
  },
  {
   "cell_type": "code",
   "execution_count": null,
   "metadata": {},
   "outputs": [],
   "source": [
    "### Read RNA\n",
    "dataset2 = Dataset10X(\n",
    "    save_path=sampleFolder+\"PATH/TO/Sample2/\",\n",
    "    measurement_names_column=0,\n",
    ")\n",
    "dataset2"
   ]
  },
  {
   "cell_type": "markdown",
   "metadata": {},
   "source": [
    "# Merge datasets"
   ]
  },
  {
   "cell_type": "code",
   "execution_count": null,
   "metadata": {},
   "outputs": [],
   "source": [
    "### Concatenate datasets - via intersect\n",
    "all_dataset = GeneExpressionDataset()\n",
    "all_dataset.populate_from_datasets([dataset1,dataset2])"
   ]
  },
  {
   "cell_type": "code",
   "execution_count": null,
   "metadata": {},
   "outputs": [],
   "source": [
    "### Check out merged dataset\n",
    "all_dataset"
   ]
  },
  {
   "cell_type": "code",
   "execution_count": null,
   "metadata": {},
   "outputs": [],
   "source": [
    "### Save before taking HVG\n",
    "import pickle\n",
    "pickle.dump(all_dataset, open(sampleFolder+\"PATH/TO/all_dataset.pkl\", \"wb\"))"
   ]
  },
  {
   "cell_type": "code",
   "execution_count": null,
   "metadata": {},
   "outputs": [],
   "source": [
    "### Get HVGenes\n",
    "all_dataset.subsample_genes(4000, batch_correction = True, mode = \"seurat_v2\")\n",
    "all_dataset"
   ]
  },
  {
   "cell_type": "code",
   "execution_count": null,
   "metadata": {},
   "outputs": [],
   "source": [
    "all_dataset.gene_names[0:19]"
   ]
  },
  {
   "cell_type": "code",
   "execution_count": null,
   "metadata": {},
   "outputs": [],
   "source": [
    "all_dataset.gene_names[3980:3999]"
   ]
  },
  {
   "cell_type": "code",
   "execution_count": null,
   "metadata": {},
   "outputs": [],
   "source": [
    "all_dataset.batch_indices"
   ]
  },
  {
   "cell_type": "markdown",
   "metadata": {},
   "source": [
    "### Save merged dataset"
   ]
  },
  {
   "cell_type": "code",
   "execution_count": null,
   "metadata": {},
   "outputs": [],
   "source": [
    "print(os.getcwd())\n",
    "print(sampleFolder)"
   ]
  },
  {
   "cell_type": "code",
   "execution_count": null,
   "metadata": {},
   "outputs": [],
   "source": [
    "### Save\n",
    "import pickle\n",
    "pickle.dump(all_dataset, open(sampleFolder+\"PATH/TO/HVG_dataset.pkl\", \"wb\"))"
   ]
  },
  {
   "cell_type": "markdown",
   "metadata": {},
   "source": [
    "### Reload merged dataset"
   ]
  },
  {
   "cell_type": "code",
   "execution_count": null,
   "metadata": {},
   "outputs": [],
   "source": [
    "### Load data again\n",
    "import pickle\n",
    "all_dataset = pickle.load(open(sampleFolder+\"PATH/TO/HVG_dataset.pkl\", \"rb\"))"
   ]
  },
  {
   "cell_type": "code",
   "execution_count": null,
   "metadata": {},
   "outputs": [],
   "source": [
    "all_dataset"
   ]
  },
  {
   "cell_type": "code",
   "execution_count": null,
   "metadata": {},
   "outputs": [],
   "source": [
    "all_dataset.gene_names[0:19]"
   ]
  },
  {
   "cell_type": "code",
   "execution_count": null,
   "metadata": {},
   "outputs": [],
   "source": [
    "all_dataset.gene_names[3980:3999]"
   ]
  },
  {
   "cell_type": "code",
   "execution_count": null,
   "metadata": {},
   "outputs": [],
   "source": [
    "all_dataset.batch_indices"
   ]
  },
  {
   "cell_type": "code",
   "execution_count": null,
   "metadata": {},
   "outputs": [],
   "source": [
    "### Load full dataset again\n",
    "import pickle\n",
    "all_dataset_full = pickle.load(open(sampleFolder+\"PATH/TO/all_dataset.pkl\", \"rb\"))"
   ]
  },
  {
   "cell_type": "code",
   "execution_count": null,
   "metadata": {},
   "outputs": [],
   "source": [
    "all_dataset_full"
   ]
  },
  {
   "cell_type": "markdown",
   "metadata": {},
   "source": [
    "# Train model"
   ]
  },
  {
   "cell_type": "code",
   "execution_count": null,
   "metadata": {},
   "outputs": [],
   "source": [
    "### Initialize trainer\n",
    "use_cuda = True\n",
    "n_epochs = 300\n",
    "lr = 1e-3\n",
    "\n",
    "\n",
    "vae = VAE(all_dataset.nb_genes, \n",
    "          n_batch=all_dataset.n_batches, n_labels=all_dataset.n_labels,\n",
    "          n_hidden=128, n_latent=20, n_layers=1, dispersion='gene')\n",
    "\n",
    "### Prepare trainer\n",
    "trainer = UnsupervisedTrainer(\n",
    "    vae, \n",
    "    all_dataset, \n",
    "    train_size=0.90,\n",
    "    test_size=0.10,\n",
    "    use_cuda=use_cuda\n",
    ")"
   ]
  },
  {
   "cell_type": "code",
   "execution_count": null,
   "metadata": {},
   "outputs": [],
   "source": [
    "### Do training\n",
    "print(\"Start =\", datetime.now().strftime(\"%H:%M:%S\"))\n",
    "\n",
    "trainer.train(lr=lr, n_epochs=n_epochs)\n",
    "\n",
    "print(\"End =\", datetime.now().strftime(\"%H:%M:%S\"))"
   ]
  },
  {
   "cell_type": "code",
   "execution_count": null,
   "metadata": {},
   "outputs": [],
   "source": [
    "### Plotting likelihood\n",
    "plt.plot(trainer.history[\"elbo_train_set\"], label=\"train\")\n",
    "plt.plot(trainer.history[\"elbo_test_set\"], label=\"test\")\n",
    "plt.title(\"Negative ELBO over training epochs\")\n",
    "plt.ylim(0,10000)\n",
    "plt.xlim(0,400)\n",
    "plt.legend()"
   ]
  },
  {
   "cell_type": "markdown",
   "metadata": {},
   "source": [
    "# Get full posterior"
   ]
  },
  {
   "cell_type": "code",
   "execution_count": null,
   "metadata": {},
   "outputs": [],
   "source": [
    "### Get full posterior\n",
    "full_posterior = trainer.create_posterior(\n",
    "    trainer.model, all_dataset, indices=np.arange(len(all_dataset)))\n",
    "full_posterior = full_posterior.update({\"batch_size\":32})\n",
    "\n",
    "### Extract latent space\n",
    "latent, batch_indices, label = full_posterior.sequential().get_latent()\n",
    "batch_indices = batch_indices.ravel()"
   ]
  },
  {
   "cell_type": "code",
   "execution_count": null,
   "metadata": {},
   "outputs": [],
   "source": [
    "latent.shape"
   ]
  },
  {
   "cell_type": "markdown",
   "metadata": {},
   "source": [
    "# Save"
   ]
  },
  {
   "cell_type": "code",
   "execution_count": null,
   "metadata": {},
   "outputs": [],
   "source": [
    "print(os.getcwd())\n",
    "print(sampleFolder)"
   ]
  },
  {
   "cell_type": "code",
   "execution_count": null,
   "metadata": {},
   "outputs": [],
   "source": [
    "### Save\n",
    "import pickle\n",
    "pickle.dump(full_posterior, open(sampleFolder+\"PATH/TO/fullPosterior.pkl\", \"wb\"))"
   ]
  },
  {
   "cell_type": "markdown",
   "metadata": {},
   "source": [
    "# Reload"
   ]
  },
  {
   "cell_type": "code",
   "execution_count": null,
   "metadata": {},
   "outputs": [],
   "source": [
    "### Load data again\n",
    "import pickle\n",
    "full_posterior = pickle.load(open(sampleFolder+\"PATH/TO/fullPosterior.pkl\", \"rb\"))"
   ]
  },
  {
   "cell_type": "code",
   "execution_count": null,
   "metadata": {},
   "outputs": [],
   "source": [
    "latent, batch_indices, label = full_posterior.sequential().get_latent()\n",
    "batch_indices = batch_indices.ravel()"
   ]
  },
  {
   "cell_type": "markdown",
   "metadata": {},
   "source": [
    "# Clustering "
   ]
  },
  {
   "cell_type": "code",
   "execution_count": null,
   "metadata": {},
   "outputs": [],
   "source": [
    "### Create adata object\n",
    "post_adata = sc.AnnData(X=all_dataset.X)\n",
    "post_adata.var.index = all_dataset.gene_names\n",
    "post_adata.obsm[\"X_totalVI\"] = latent"
   ]
  },
  {
   "cell_type": "code",
   "execution_count": null,
   "metadata": {},
   "outputs": [],
   "source": [
    "post_adata.obsm[\"X_totalVI\"].shape"
   ]
  },
  {
   "cell_type": "code",
   "execution_count": null,
   "metadata": {},
   "outputs": [],
   "source": [
    "### table() of batch indices\n",
    "print(np.array(np.unique(all_dataset.batch_indices, return_counts=True)).T)"
   ]
  },
  {
   "cell_type": "code",
   "execution_count": null,
   "metadata": {},
   "outputs": [],
   "source": [
    "### Run umap\n",
    "#The higher the min_dist, the closer the clusters\n",
    "sc.pp.neighbors(post_adata, use_rep=\"X_totalVI\", n_neighbors=30, metric=\"correlation\")\n",
    "sc.tl.umap(post_adata, min_dist=0.3)"
   ]
  },
  {
   "cell_type": "code",
   "execution_count": null,
   "metadata": {},
   "outputs": [],
   "source": [
    "### Run clustering\n",
    "sc.tl.louvain(post_adata, key_added=\"louvain\", resolution=1.0)"
   ]
  },
  {
   "cell_type": "code",
   "execution_count": null,
   "metadata": {},
   "outputs": [],
   "source": [
    "### Prepare for umap\n",
    "d_names = [\"Sample1\",\"Sample2\"]\n",
    "post_adata.obs[\"sample\"] = [d_names[int(b)] for b in all_dataset.batch_indices]"
   ]
  },
  {
   "cell_type": "code",
   "execution_count": null,
   "metadata": {},
   "outputs": [],
   "source": [
    "post_adata.obs[\"type\"] = \"RnaSeq\""
   ]
  },
  {
   "cell_type": "code",
   "execution_count": null,
   "metadata": {},
   "outputs": [],
   "source": [
    "post_adata.obs"
   ]
  },
  {
   "cell_type": "code",
   "execution_count": null,
   "metadata": {},
   "outputs": [],
   "source": [
    "print(np.array(np.unique(post_adata.obs['type'], return_counts=True)).T)"
   ]
  },
  {
   "cell_type": "code",
   "execution_count": null,
   "metadata": {},
   "outputs": [],
   "source": [
    "inds = np.random.permutation(np.arange(all_dataset.X.shape[0]))"
   ]
  },
  {
   "cell_type": "code",
   "execution_count": null,
   "metadata": {},
   "outputs": [],
   "source": [
    "print(all_dataset.X.shape)\n",
    "print(inds.shape)"
   ]
  },
  {
   "cell_type": "code",
   "execution_count": null,
   "metadata": {},
   "outputs": [],
   "source": [
    "### Create umap\n",
    "figUmap = sc.pl.umap(\n",
    "    post_adata, \n",
    "    color=\"louvain\",\n",
    "    ncols=1,\n",
    "    alpha=0.9,\n",
    "    legend_loc=\"on data\",\n",
    "#     legend_loc=\"right margin\",\n",
    "    return_fig=True\n",
    ")"
   ]
  },
  {
   "cell_type": "code",
   "execution_count": null,
   "metadata": {},
   "outputs": [],
   "source": [
    "### Create umap split\n",
    "figUmapSplitSample = sc.pl.umap(\n",
    "    post_adata[inds], \n",
    "    color=[\"sample\"],\n",
    "    ncols=1,\n",
    "    alpha=0.9,\n",
    "    return_fig=True\n",
    ")"
   ]
  },
  {
   "cell_type": "code",
   "execution_count": null,
   "metadata": {},
   "outputs": [],
   "source": [
    "### Create umap split\n",
    "figUmapSplitType = sc.pl.umap(\n",
    "    post_adata[inds], \n",
    "    color=[\"type\"],\n",
    "    ncols=1,\n",
    "    alpha=0.9,\n",
    "    return_fig=True\n",
    ")"
   ]
  },
  {
   "cell_type": "markdown",
   "metadata": {},
   "source": [
    "# Get denoised data"
   ]
  },
  {
   "cell_type": "code",
   "execution_count": null,
   "metadata": {},
   "outputs": [],
   "source": [
    "# denoised has shape n_cells by (n_input_genes + n_input_proteins) with protein features concatenated to the genes\n",
    "denoised_genes = full_posterior.sequential().get_sample_scale()\n",
    "denoised_genes"
   ]
  },
  {
   "cell_type": "code",
   "execution_count": null,
   "metadata": {},
   "outputs": [],
   "source": [
    "print(denoised_genes.shape)"
   ]
  },
  {
   "cell_type": "code",
   "execution_count": null,
   "metadata": {},
   "outputs": [],
   "source": [
    "### Add normalised gene values to post_adata (via layer)\n",
    "post_adata.layers[\"norm_genes\"] = denoised_genes"
   ]
  },
  {
   "cell_type": "code",
   "execution_count": null,
   "metadata": {},
   "outputs": [],
   "source": [
    "post_adata.var.index"
   ]
  },
  {
   "cell_type": "markdown",
   "metadata": {},
   "source": [
    "### Get normalised data for non-HVGenes "
   ]
  },
  {
   "cell_type": "code",
   "execution_count": null,
   "metadata": {},
   "outputs": [],
   "source": [
    "all_dataset_full"
   ]
  },
  {
   "cell_type": "code",
   "execution_count": null,
   "metadata": {},
   "outputs": [],
   "source": [
    "post_adata_full = sc.AnnData(X=all_dataset_full.X)\n",
    "post_adata_full.var.index = all_dataset_full.gene_names"
   ]
  },
  {
   "cell_type": "code",
   "execution_count": null,
   "metadata": {},
   "outputs": [],
   "source": [
    "sc.pp.normalize_total(post_adata_full, target_sum=1e4, exclude_highly_expressed=True)"
   ]
  },
  {
   "cell_type": "code",
   "execution_count": null,
   "metadata": {},
   "outputs": [],
   "source": [
    "sc.pp.log1p(post_adata_full)"
   ]
  },
  {
   "cell_type": "code",
   "execution_count": null,
   "metadata": {},
   "outputs": [],
   "source": [
    "post_adata_full.layers[\"rawDataFull\"] = all_dataset_full.X"
   ]
  },
  {
   "cell_type": "code",
   "execution_count": null,
   "metadata": {},
   "outputs": [],
   "source": [
    "post_adata_full.obsm[\"X_totalVI\"] = latent\n",
    "post_adata_full.obsm['X_umap']=post_adata.obsm['X_umap']"
   ]
  },
  {
   "cell_type": "code",
   "execution_count": null,
   "metadata": {},
   "outputs": [],
   "source": [
    "print(post_adata_full.layers[\"rawDataFull\"].shape)\n",
    "print(post_adata_full.X.shape)\n",
    "print(post_adata.layers[\"norm_genes\"].shape)"
   ]
  },
  {
   "cell_type": "code",
   "execution_count": null,
   "metadata": {},
   "outputs": [],
   "source": [
    "def getGeneID(geneSymbol):\n",
    "    tmp=all_dataset_full.genes_to_index([geneSymbol])\n",
    "    return tmp[0]\n",
    "\n",
    "def getMaxPerc(geneSymbol, cutoff, typeData):\n",
    "    tmp=all_dataset_full.genes_to_index([geneSymbol])\n",
    "    geneID=tmp[0]\n",
    "    \n",
    "    percMax=0\n",
    "    if typeData=='rawDataFull':\n",
    "        tmp=post_adata_full.layers[\"rawDataFull\"][:,geneID].todense()\n",
    "        percMax=np.percentile(tmp,cutoff)\n",
    "        if percMax==0:\n",
    "            percMax=np.percentile(tmp[tmp>0],90)\n",
    "    elif typeData=='normDataFull':\n",
    "        tmp=post_adata_full.X[:,geneID].todense()\n",
    "        percMax=np.percentile(tmp,cutoff)\n",
    "        if percMax==0:\n",
    "            percMax=np.percentile(tmp[tmp>0],95)\n",
    "    else:\n",
    "        tmp=all_dataset.genes_to_index([geneSymbol])\n",
    "        geneID=tmp[0]\n",
    "        tmp=post_adata.layers[\"norm_genes\"][:,geneID]\n",
    "        percMax=np.percentile(tmp,cutoff)\n",
    "        if percMax==0:\n",
    "            percMax=np.percentile(tmp[tmp>0],95)\n",
    "    \n",
    "    return percMax"
   ]
  },
  {
   "cell_type": "code",
   "execution_count": null,
   "metadata": {},
   "outputs": [],
   "source": [
    "geneSymbol='ALB'\n",
    "np.intersect1d([geneSymbol],all_dataset.gene_names)"
   ]
  },
  {
   "cell_type": "code",
   "execution_count": null,
   "metadata": {},
   "outputs": [],
   "source": [
    "### Plot gene expression - raw data\n",
    "sc.pl.umap(\n",
    "    post_adata_full,\n",
    "    color=[geneSymbol,geneSymbol],\n",
    "    show=True,\n",
    "    layer=\"rawDataFull\",\n",
    "    vmax=[getMaxPerc(geneSymbol,99,'rawDataFull'),'p99']\n",
    ")"
   ]
  },
  {
   "cell_type": "code",
   "execution_count": null,
   "metadata": {},
   "outputs": [],
   "source": [
    "### Plot gene expression - own normData\n",
    "p1=sc.pl.umap(\n",
    "    post_adata_full,\n",
    "    color=[geneSymbol,geneSymbol],\n",
    "    show=True,\n",
    "    vmax=[getMaxPerc(geneSymbol,99,'normDataFull'),'p99'],\n",
    "    return_fig=True\n",
    ")"
   ]
  },
  {
   "cell_type": "code",
   "execution_count": null,
   "metadata": {},
   "outputs": [],
   "source": [
    "### Plot gene expression - denoised genes\n",
    "p2=sc.pl.umap(\n",
    "    post_adata,\n",
    "    color=[geneSymbol,geneSymbol],\n",
    "    show=True,\n",
    "    layer='norm_genes',\n",
    "    vmax=[getMaxPerc(geneSymbol,99,'denoised'),'p99'],\n",
    "    return_fig=True\n",
    ")"
   ]
  },
  {
   "cell_type": "code",
   "execution_count": null,
   "metadata": {},
   "outputs": [],
   "source": [
    "##### Prepare for saving #####\n",
    "normData=post_adata_full.X\n",
    "normData.shape"
   ]
  },
  {
   "cell_type": "code",
   "execution_count": null,
   "metadata": {},
   "outputs": [],
   "source": [
    "### Save\n",
    "import scipy.io\n",
    "scipy.io.mmwrite(sampleFolder+\"PATH/TO/normData.mtx\", normData)"
   ]
  },
  {
   "cell_type": "markdown",
   "metadata": {},
   "source": [
    "# Visualize"
   ]
  },
  {
   "cell_type": "code",
   "execution_count": null,
   "metadata": {},
   "outputs": [],
   "source": [
    "### Plot gene expression\n",
    "sc.pl.umap(\n",
    "    post_adata,\n",
    "    color=['ALB'],\n",
    "    show=True,\n",
    "    vmax=\"p99\",\n",
    "    layer='norm_genes'\n",
    ")"
   ]
  },
  {
   "cell_type": "markdown",
   "metadata": {},
   "source": [
    "# Save"
   ]
  },
  {
   "cell_type": "code",
   "execution_count": null,
   "metadata": {},
   "outputs": [],
   "source": [
    "nrSamples=np.array(np.unique(post_adata.obs['sample'], return_counts=True)).shape[1]\n",
    "maxLimit=nrSamples+1\n",
    "maxLimit"
   ]
  },
  {
   "cell_type": "code",
   "execution_count": null,
   "metadata": {},
   "outputs": [],
   "source": [
    "d_names = np.arange(1,maxLimit)\n",
    "post_adata.obs[\"sample\"] = [d_names[int(b)] for b in all_dataset.batch_indices]"
   ]
  },
  {
   "cell_type": "code",
   "execution_count": null,
   "metadata": {},
   "outputs": [],
   "source": [
    "post_adata.obs[\"sample\"]"
   ]
  },
  {
   "cell_type": "code",
   "execution_count": null,
   "metadata": {},
   "outputs": [],
   "source": [
    "post_adata.obs[\"sample\"] = post_adata.obs[\"sample\"].astype(\"int\")\n",
    "post_adata.obs[\"louvain\"] = post_adata.obs[\"louvain\"].astype(\"int\")\n",
    "post_adata.obs[\"type\"] = post_adata.obs[\"type\"].astype(\"str\")"
   ]
  },
  {
   "cell_type": "code",
   "execution_count": null,
   "metadata": {},
   "outputs": [],
   "source": [
    "### Save\n",
    "import pickle\n",
    "pickle.dump(post_adata, open(sampleFolder+\"PATH/TO/post_adata.pkl\", \"wb\"))"
   ]
  },
  {
   "cell_type": "code",
   "execution_count": null,
   "metadata": {},
   "outputs": [],
   "source": [
    "figUmap.savefig(sampleFolder+\"PATH/TO/umap.png\", dpi=200, bbox_inches='tight')\n",
    "figUmapSplitSample.savefig(sampleFolder+\"PATH/TO/umapSplitSample.png\", dpi=200, bbox_inches='tight')\n",
    "figUmapSplitType.savefig(sampleFolder+\"PATH/TO/umapSplitType.png\", dpi=200, bbox_inches='tight')"
   ]
  },
  {
   "cell_type": "markdown",
   "metadata": {},
   "source": [
    "# Reload"
   ]
  },
  {
   "cell_type": "code",
   "execution_count": null,
   "metadata": {},
   "outputs": [],
   "source": [
    "### Load data again\n",
    "import pickle\n",
    "post_adata = pickle.load(open(sampleFolder+\"PATH/TO/post_adata.pkl\", \"rb\"))"
   ]
  },
  {
   "cell_type": "code",
   "execution_count": null,
   "metadata": {},
   "outputs": [],
   "source": [
    "post_adata.obs['sample'] = post_adata.obs['sample'].astype('category')\n",
    "post_adata.obs['louvain'] = post_adata.obs['louvain'].astype('category')\n",
    "post_adata.obs['type'] = post_adata.obs['type'].astype('category')"
   ]
  },
  {
   "cell_type": "code",
   "execution_count": null,
   "metadata": {},
   "outputs": [],
   "source": [
    "### Create umap\n",
    "tmp=sc.pl.umap(\n",
    "    post_adata, \n",
    "    color=\"louvain\",\n",
    "    ncols=1,\n",
    "    alpha=0.9,\n",
    "    legend_loc=\"on data\",\n",
    "#     legend_loc=\"right margin\",\n",
    "    return_fig=True\n",
    ")"
   ]
  },
  {
   "cell_type": "markdown",
   "metadata": {},
   "source": [
    "# DE genes per cluster"
   ]
  },
  {
   "cell_type": "code",
   "execution_count": null,
   "metadata": {},
   "outputs": [],
   "source": [
    "### Get clusters\n",
    "clusters = post_adata.obs.annotID.values.astype(int)\n",
    "print(clusters.shape)"
   ]
  },
  {
   "cell_type": "code",
   "execution_count": null,
   "metadata": {},
   "outputs": [],
   "source": [
    "np.array(np.unique(clusters, return_counts=True)).T"
   ]
  },
  {
   "cell_type": "code",
   "execution_count": null,
   "metadata": {},
   "outputs": [],
   "source": [
    "### Calculate markers for each cluster\n",
    "per_cluster_de, cluster_id = full_posterior.one_vs_all_degenes(\n",
    "    cell_labels=clusters,\n",
    "    min_cells=1,\n",
    "    n_samples=5000,\n",
    "    use_permutation=False,\n",
    "    mode=\"change\",\n",
    "    delta=0.2\n",
    ")"
   ]
  },
  {
   "cell_type": "code",
   "execution_count": null,
   "metadata": {},
   "outputs": [],
   "source": [
    "allGenes_rna = []\n",
    "allABs_adt = []\n",
    "for i, cid in enumerate(cluster_id):\n",
    "    pcd = per_cluster_de[i].sort_values(\"lfc_median\", ascending=False)\n",
    "\n",
    "    pro_rows = pcd.index.str.contains('adt')\n",
    "    data_rna = pcd.iloc[~pro_rows]\n",
    "    data_pro = pcd.iloc[pro_rows]\n",
    "\n",
    "    allGenes_rna.append(data_rna)\n",
    "    allABs_adt.append(data_pro)\n",
    "\n",
    "allGenesTable=pd.concat(allGenes_rna)\n",
    "allABsTable=pd.concat(allABs_adt)"
   ]
  },
  {
   "cell_type": "code",
   "execution_count": null,
   "metadata": {},
   "outputs": [],
   "source": [
    "geneSymbol='ALB'\n",
    "foundHits=[]\n",
    "\n",
    "for i in range(len(allGenes_rna)):\n",
    "    tmp=allGenes_rna[i].loc[geneSymbol].to_frame()\n",
    "    foundHits.append(tmp)\n",
    "\n",
    "pd.concat(foundHits, axis=1)"
   ]
  },
  {
   "cell_type": "markdown",
   "metadata": {},
   "source": [
    "## DE genes"
   ]
  },
  {
   "cell_type": "code",
   "execution_count": null,
   "metadata": {},
   "outputs": [],
   "source": [
    "### Get DE genes: function\n",
    "def getDEgenes_perCluster(per_cluster_de, cluster_id):\n",
    "    filtered_rna = []\n",
    "    for i, cid in enumerate(cluster_id):\n",
    "        pcd = per_cluster_de[i].sort_values(\"lfc_median\", ascending=False)\n",
    "\n",
    "        pcd = pcd[pcd.lfc_median > 0.5]\n",
    "\n",
    "        pro_rows = pcd.index.str.contains('adt')\n",
    "        data_rna = pcd.iloc[~pro_rows]\n",
    "        data_rna = data_rna[data_rna[\"bayes_factor\"] > 1]\n",
    "        data_rna = data_rna[data_rna[\"non_zeros_proportion1\"] > 0.20]\n",
    "        \n",
    "        data_rna[\"score\"] = data_rna[\"raw_normalized_mean1\"]/data_rna[\"raw_normalized_mean2\"]*data_rna[\"lfc_mean\"]\n",
    "\n",
    "        filtered_rna.append(data_rna)\n",
    "    \n",
    "    toReturn=pd.concat(filtered_rna)\n",
    "    toReturn=toReturn.sort_values(['clusters', 'lfc_median'], ascending=[True, False])\n",
    "    return(toReturn)"
   ]
  },
  {
   "cell_type": "code",
   "execution_count": null,
   "metadata": {},
   "outputs": [],
   "source": [
    "### Get DE genes\n",
    "clustermarkers = getDEgenes_perCluster(per_cluster_de, cluster_id)\n",
    "columns_oi=['proba_de','bayes_factor','lfc_mean','lfc_median','raw_normalized_mean1','raw_normalized_mean2','clusters','score']\n",
    "clustermarkers[columns_oi]"
   ]
  },
  {
   "cell_type": "code",
   "execution_count": null,
   "metadata": {},
   "outputs": [],
   "source": [
    "clustermarkers.shape"
   ]
  },
  {
   "cell_type": "code",
   "execution_count": null,
   "metadata": {},
   "outputs": [],
   "source": [
    "np.array(np.unique(clustermarkers['clusters'], return_counts=True)).T"
   ]
  },
  {
   "cell_type": "code",
   "execution_count": null,
   "metadata": {},
   "outputs": [],
   "source": [
    "### Get markers of certain cluster\n",
    "tmp=clustermarkers[clustermarkers['clusters']==5]\n",
    "tmp[columns_oi]"
   ]
  },
  {
   "cell_type": "code",
   "execution_count": null,
   "metadata": {},
   "outputs": [],
   "source": [
    "### Plot gene expression - own normData\n",
    "p1=sc.pl.umap(\n",
    "    post_adata_full,\n",
    "    color=['ALB'],\n",
    "    show=True,\n",
    "    vmax='p99',\n",
    "    return_fig=True\n",
    ")"
   ]
  },
  {
   "cell_type": "code",
   "execution_count": null,
   "metadata": {
    "scrolled": true
   },
   "outputs": [],
   "source": [
    "### Plot gene expression - denoised values\n",
    "sc.pl.umap(\n",
    "    post_adata,\n",
    "    color=['ALB'],\n",
    "    show=True,\n",
    "    vmax=\"p99\",\n",
    "    layer='norm_genes'\n",
    ")"
   ]
  },
  {
   "cell_type": "markdown",
   "metadata": {},
   "source": [
    "### Write to Excel"
   ]
  },
  {
   "cell_type": "code",
   "execution_count": null,
   "metadata": {},
   "outputs": [],
   "source": [
    "import xlsxwriter\n",
    "# Create a Pandas Excel writer using XlsxWriter as the engine.\n",
    "fileName = sampleFolder+'PATH/TO/DEgenes_ScVI.xlsx'\n",
    "writer = pd.ExcelWriter(fileName, engine='xlsxwriter')\n",
    "\n",
    "clusterIDs=np.array(np.unique(clustermarkers.clusters))\n",
    "for clusterID in clusterIDs:\n",
    "    tmp=clustermarkers[clustermarkers.clusters==clusterID]\n",
    "    tmp.to_excel(writer, sheet_name='cl'+str(clusterID))\n",
    "    \n",
    "# Close the Pandas Excel writer and output the Excel file.\n",
    "writer.save()"
   ]
  }
 ],
 "metadata": {
  "kernelspec": {
   "display_name": "Python 3",
   "language": "python",
   "name": "python3"
  },
  "language_info": {
   "codemirror_mode": {
    "name": "ipython",
    "version": 3
   },
   "file_extension": ".py",
   "mimetype": "text/x-python",
   "name": "python",
   "nbconvert_exporter": "python",
   "pygments_lexer": "ipython3",
   "version": "3.8.3"
  }
 },
 "nbformat": 4,
 "nbformat_minor": 4
}
