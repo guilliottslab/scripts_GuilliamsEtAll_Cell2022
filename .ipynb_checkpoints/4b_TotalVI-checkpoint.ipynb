{
 "cells": [
  {
   "cell_type": "code",
   "execution_count": null,
   "metadata": {},
   "outputs": [],
   "source": [
    "import sys\n",
    "import matplotlib\n",
    "matplotlib.rcParams[\"pdf.fonttype\"] = 42\n",
    "matplotlib.rcParams[\"ps.fonttype\"] = 42\n",
    "import matplotlib.pyplot as plt\n",
    "from matplotlib.colors import LinearSegmentedColormap\n",
    "import seaborn as sns\n",
    "from datetime import datetime\n",
    "\n",
    "import numpy as np\n",
    "import numpy.random as random\n",
    "import pandas as pd\n",
    "import scanpy as sc\n",
    "import louvain\n",
    "import torch\n",
    "\n",
    "from scvi.dataset import Dataset10X, CsvDataset, AnnDatasetFromAnnData, CellMeasurement, LoomDataset, DownloadableAnnDataset\n",
    "from scvi.dataset.dataset import GeneExpressionDataset\n",
    "from scvi.inference import TotalPosterior, TotalTrainer, load_posterior\n",
    "from scvi.models import SCANVI, TOTALVI\n",
    "from scvi import set_seed\n",
    "\n",
    "from umap import UMAP\n",
    "\n",
    "# Control UMAP numba warnings\n",
    "import warnings; warnings.simplefilter('ignore')\n",
    "\n",
    "%matplotlib inline\n",
    "\n",
    "set_seed(123)\n",
    "\n",
    "use_cuda = True\n",
    "show_plot = True\n",
    "test_mode = False\n",
    "sampleFolder = \"/PATH/TO/\""
   ]
  },
  {
   "cell_type": "markdown",
   "metadata": {},
   "source": [
    "# Load data"
   ]
  },
  {
   "cell_type": "markdown",
   "metadata": {},
   "source": [
    "### Load Sample1"
   ]
  },
  {
   "cell_type": "code",
   "execution_count": null,
   "metadata": {},
   "outputs": [],
   "source": [
    "### Read RNA\n",
    "dataset1 = Dataset10X(\n",
    "    save_path=sampleFolder+\"Sample1/\",\n",
    "    measurement_names_column=0,\n",
    ")\n",
    "dataset1"
   ]
  },
  {
   "cell_type": "code",
   "execution_count": null,
   "metadata": {},
   "outputs": [],
   "source": [
    "### Read ADT\n",
    "datasetADT1 = CsvDataset(sampleFolder+\"PATH/TO/rawDataADT1.csv\")\n",
    "datasetADT1"
   ]
  },
  {
   "cell_type": "code",
   "execution_count": null,
   "metadata": {},
   "outputs": [],
   "source": [
    "### Finish dataset\n",
    "protein_data = CellMeasurement(\n",
    "    name=\"protein_expression\",\n",
    "    data=datasetADT1.X.astype(np.float32),\n",
    "    columns_attr_name=\"protein_names\",\n",
    "    columns=datasetADT1.gene_names,\n",
    ")\n",
    "\n",
    "dataset1.initialize_cell_measurement(protein_data)\n",
    "dataset1"
   ]
  },
  {
   "cell_type": "markdown",
   "metadata": {},
   "source": [
    "### Load Sample2"
   ]
  },
  {
   "cell_type": "code",
   "execution_count": null,
   "metadata": {},
   "outputs": [],
   "source": [
    "### Read RNA\n",
    "dataset2 = Dataset10X(\n",
    "    save_path=sampleFolder+\"Sample2/\",\n",
    "    measurement_names_column=0,\n",
    ")\n",
    "dataset2"
   ]
  },
  {
   "cell_type": "code",
   "execution_count": null,
   "metadata": {},
   "outputs": [],
   "source": [
    "### Read ADT\n",
    "datasetADT2 = CsvDataset(sampleFolder+\"PATH/TO/rawDataADT2.csv\")\n",
    "datasetADT2"
   ]
  },
  {
   "cell_type": "code",
   "execution_count": null,
   "metadata": {},
   "outputs": [],
   "source": [
    "### Finish dataset\n",
    "protein_data = CellMeasurement(\n",
    "    name=\"protein_expression\",\n",
    "    data=datasetADT2.X.astype(np.float32),\n",
    "    columns_attr_name=\"protein_names\",\n",
    "    columns=datasetADT2.gene_names,\n",
    ")\n",
    "\n",
    "dataset2.initialize_cell_measurement(protein_data)\n",
    "dataset2"
   ]
  },
  {
   "cell_type": "markdown",
   "metadata": {},
   "source": [
    "### Merge"
   ]
  },
  {
   "cell_type": "code",
   "execution_count": null,
   "metadata": {},
   "outputs": [],
   "source": [
    "### Concatenate datasets - via intersect\n",
    "all_dataset = GeneExpressionDataset()\n",
    "all_dataset.populate_from_datasets([dataset1, dataset2])"
   ]
  },
  {
   "cell_type": "code",
   "execution_count": null,
   "metadata": {},
   "outputs": [],
   "source": [
    "### Check out merged dataset\n",
    "all_dataset"
   ]
  },
  {
   "cell_type": "code",
   "execution_count": null,
   "metadata": {},
   "outputs": [],
   "source": [
    "### Save before taking HVG\n",
    "import pickle\n",
    "pickle.dump(all_dataset, open(sampleFolder+\"PATH/TO/all_dataset.pkl\", \"wb\"))"
   ]
  },
  {
   "cell_type": "markdown",
   "metadata": {},
   "source": [
    "### HVG (4000 genes)"
   ]
  },
  {
   "cell_type": "code",
   "execution_count": null,
   "metadata": {
    "scrolled": false
   },
   "outputs": [],
   "source": [
    "### Get HVGenes\n",
    "all_dataset.subsample_genes(4000, batch_correction = True, mode = \"seurat_v2\")\n",
    "all_dataset"
   ]
  },
  {
   "cell_type": "markdown",
   "metadata": {},
   "source": [
    "### Save merged dataset after taking HVG"
   ]
  },
  {
   "cell_type": "code",
   "execution_count": null,
   "metadata": {},
   "outputs": [],
   "source": [
    "print(os.getcwd())\n",
    "print(sampleFolder)"
   ]
  },
  {
   "cell_type": "code",
   "execution_count": null,
   "metadata": {},
   "outputs": [],
   "source": [
    "### Save\n",
    "import pickle\n",
    "pickle.dump(all_dataset, open(sampleFolder+\"PATH/TO/HVG_dataset.pkl\", \"wb\"))"
   ]
  },
  {
   "cell_type": "markdown",
   "metadata": {},
   "source": [
    "### Reload merged dataset"
   ]
  },
  {
   "cell_type": "code",
   "execution_count": null,
   "metadata": {},
   "outputs": [],
   "source": [
    "### Load data again\n",
    "import pickle\n",
    "all_dataset = pickle.load(open(sampleFolder+\"PATH/TO/HVG_dataset.pkl\", \"rb\"))"
   ]
  },
  {
   "cell_type": "code",
   "execution_count": null,
   "metadata": {},
   "outputs": [],
   "source": [
    "all_dataset"
   ]
  },
  {
   "cell_type": "code",
   "execution_count": null,
   "metadata": {},
   "outputs": [],
   "source": [
    "### Load full dataset again\n",
    "import pickle\n",
    "all_dataset_full = pickle.load(open(sampleFolder+\"PATH/TO/all_dataset.pkl\", \"rb\"))"
   ]
  },
  {
   "cell_type": "code",
   "execution_count": null,
   "metadata": {},
   "outputs": [],
   "source": [
    "all_dataset_full"
   ]
  },
  {
   "cell_type": "markdown",
   "metadata": {},
   "source": [
    "# Train model"
   ]
  },
  {
   "cell_type": "code",
   "execution_count": null,
   "metadata": {},
   "outputs": [],
   "source": [
    "### Initialize trainer\n",
    "use_cuda = True\n",
    "lr = 0.001\n",
    "n_epochs = 400\n",
    "\n",
    "# early_stopping_kwargs = {\n",
    "#     \"early_stopping_metric\": \"elbo\",\n",
    "#     \"save_best_state_metric\": \"elbo\",\n",
    "#     \"patience\": 45,\n",
    "#     \"threshold\": 0,\n",
    "#     \"reduce_lr_on_plateau\": True,\n",
    "#     \"lr_patience\": 30,\n",
    "#     \"lr_factor\": 0.6,\n",
    "#     \"posterior_class\": TotalPosterior,\n",
    "# }\n",
    "\n",
    "\n",
    "totalvae=TOTALVI(all_dataset.nb_genes, len(all_dataset.protein_names), \n",
    "                 n_batch=all_dataset.n_batches, n_latent=20, \n",
    "                 encoder_batch=True, protein_batch_mask=batch_mask)\n",
    "\n",
    "### Prepare trainer\n",
    "trainer = TotalTrainer(\n",
    "    totalvae,\n",
    "    all_dataset,\n",
    "    train_size=0.90,\n",
    "    test_size=0.10,\n",
    "    use_cuda=use_cuda,\n",
    "    frequency=1,\n",
    "    batch_size=256,\n",
    "    early_stopping_kwargs=\"auto\",\n",
    "    use_adversarial_loss=True if all_dataset.n_batches > 1 else False\n",
    ")"
   ]
  },
  {
   "cell_type": "code",
   "execution_count": null,
   "metadata": {},
   "outputs": [],
   "source": [
    "### Do training\n",
    "print(\"Start =\", datetime.now().strftime(\"%H:%M:%S\"))\n",
    "\n",
    "trainer.train(lr=lr, n_epochs=n_epochs)\n",
    "\n",
    "print(\"End =\", datetime.now().strftime(\"%H:%M:%S\"))"
   ]
  },
  {
   "cell_type": "code",
   "execution_count": null,
   "metadata": {},
   "outputs": [],
   "source": [
    "### Plotting likelihood\n",
    "plt.plot(trainer.history[\"elbo_train_set\"], label=\"train\")\n",
    "plt.plot(trainer.history[\"elbo_test_set\"], label=\"test\")\n",
    "plt.title(\"Negative ELBO over training epochs\")\n",
    "plt.ylim(1000,1500)\n",
    "plt.legend()"
   ]
  },
  {
   "cell_type": "markdown",
   "metadata": {},
   "source": [
    "# Get full posterior"
   ]
  },
  {
   "cell_type": "code",
   "execution_count": null,
   "metadata": {},
   "outputs": [],
   "source": [
    "### Get full posterior\n",
    "full_posterior = trainer.create_posterior(\n",
    "    totalvae, all_dataset, indices=np.arange(len(all_dataset)), type_class=TotalPosterior\n",
    ")\n",
    "full_posterior = full_posterior.update({\"batch_size\":32})\n",
    "\n",
    "### Extract latent space\n",
    "latent, batch_indices, label, library_gene = full_posterior.sequential().get_latent()\n",
    "batch_indices = batch_indices.ravel()\n",
    "batch_indices"
   ]
  },
  {
   "cell_type": "code",
   "execution_count": null,
   "metadata": {},
   "outputs": [],
   "source": [
    "latent.shape"
   ]
  },
  {
   "cell_type": "markdown",
   "metadata": {},
   "source": [
    "# Save"
   ]
  },
  {
   "cell_type": "code",
   "execution_count": null,
   "metadata": {},
   "outputs": [],
   "source": [
    "print(os.getcwd())\n",
    "print(sampleFolder)"
   ]
  },
  {
   "cell_type": "code",
   "execution_count": null,
   "metadata": {},
   "outputs": [],
   "source": [
    "### Save\n",
    "import pickle\n",
    "pickle.dump(full_posterior, open(sampleFolder+\"PATH/TO/fullPosterior.pkl\", \"wb\"))"
   ]
  },
  {
   "cell_type": "markdown",
   "metadata": {},
   "source": [
    "# Reload"
   ]
  },
  {
   "cell_type": "code",
   "execution_count": null,
   "metadata": {},
   "outputs": [],
   "source": [
    "### Load data again\n",
    "import pickle\n",
    "full_posterior = pickle.load(open(sampleFolder+\"results_TotalVI/fullPosterior.pkl\", \"rb\"))"
   ]
  },
  {
   "cell_type": "code",
   "execution_count": null,
   "metadata": {},
   "outputs": [],
   "source": [
    "latent, batch_indices, label, library_gene = full_posterior.sequential().get_latent()\n",
    "batch_indices"
   ]
  },
  {
   "cell_type": "markdown",
   "metadata": {},
   "source": [
    "# Clustering "
   ]
  },
  {
   "cell_type": "code",
   "execution_count": null,
   "metadata": {},
   "outputs": [],
   "source": [
    "### Create adata object\n",
    "post_adata = sc.AnnData(X=all_dataset.X)\n",
    "post_adata.var.index = all_dataset.gene_names\n",
    "post_adata.obsm[\"X_totalVI\"] = latent"
   ]
  },
  {
   "cell_type": "code",
   "execution_count": null,
   "metadata": {},
   "outputs": [],
   "source": [
    "post_adata.obsm[\"X_totalVI\"].shape"
   ]
  },
  {
   "cell_type": "code",
   "execution_count": null,
   "metadata": {},
   "outputs": [],
   "source": [
    "### table() of batch indices\n",
    "print(np.array(np.unique(all_dataset.batch_indices, return_counts=True)).T)"
   ]
  },
  {
   "cell_type": "code",
   "execution_count": null,
   "metadata": {},
   "outputs": [],
   "source": [
    "### Run umap\n",
    "#The higher the min_dist, the closer the clusters\n",
    "sc.pp.neighbors(post_adata, use_rep=\"X_totalVI\", n_neighbors=30, metric=\"correlation\")\n",
    "sc.tl.umap(post_adata, min_dist=0.3)"
   ]
  },
  {
   "cell_type": "code",
   "execution_count": null,
   "metadata": {},
   "outputs": [],
   "source": [
    "### Run clustering\n",
    "sc.tl.louvain(post_adata, key_added=\"louvain\", resolution=1.2)"
   ]
  },
  {
   "cell_type": "markdown",
   "metadata": {},
   "source": [
    "### Prepare for umap"
   ]
  },
  {
   "cell_type": "code",
   "execution_count": null,
   "metadata": {},
   "outputs": [],
   "source": [
    "### Add sample name\n",
    "d_names = [\"Sample1\",\"Sample2\"]\n",
    "post_adata.obs[\"sample\"] = [d_names[int(b)] for b in all_dataset.batch_indices]"
   ]
  },
  {
   "cell_type": "code",
   "execution_count": null,
   "metadata": {},
   "outputs": [],
   "source": [
    "inds = np.random.permutation(np.arange(all_dataset.X.shape[0]))"
   ]
  },
  {
   "cell_type": "code",
   "execution_count": null,
   "metadata": {},
   "outputs": [],
   "source": [
    "print(all_dataset.X.shape)\n",
    "print(inds.shape)"
   ]
  },
  {
   "cell_type": "code",
   "execution_count": null,
   "metadata": {},
   "outputs": [],
   "source": [
    "### Look at metaData\n",
    "post_adata.obs"
   ]
  },
  {
   "cell_type": "code",
   "execution_count": null,
   "metadata": {},
   "outputs": [],
   "source": [
    "### Create umap\n",
    "figUmap = sc.pl.umap(\n",
    "    post_adata, \n",
    "    color=\"louvain\",\n",
    "    ncols=1,\n",
    "    alpha=0.9,\n",
    "    legend_loc=\"on data\",\n",
    "#     legend_loc=\"right margin\",\n",
    "    return_fig=True\n",
    ")"
   ]
  },
  {
   "cell_type": "code",
   "execution_count": null,
   "metadata": {},
   "outputs": [],
   "source": [
    "### Create umap split\n",
    "figUmapSplitSample = sc.pl.umap(\n",
    "    post_adata[inds], \n",
    "    color=[\"sample\"],\n",
    "    ncols=1,\n",
    "    alpha=0.9,\n",
    "    return_fig=True\n",
    ")"
   ]
  },
  {
   "cell_type": "code",
   "execution_count": null,
   "metadata": {},
   "outputs": [],
   "source": [
    "### Save plots\n",
    "figUmap.savefig(sampleFolder+\"PATH/TO/umap.png\", dpi=200, bbox_inches='tight')\n",
    "figUmapSplitSample.savefig(sampleFolder+\"PATH/TO/umapSplitSample.png\", dpi=200, bbox_inches='tight')"
   ]
  },
  {
   "cell_type": "markdown",
   "metadata": {},
   "source": [
    "# Get denoised data"
   ]
  },
  {
   "cell_type": "code",
   "execution_count": null,
   "metadata": {},
   "outputs": [],
   "source": [
    "# Number of Monte Carlo samples to average over\n",
    "n_samples = 15\n",
    "parsed_protein_names=all_dataset.protein_names.tolist()\n",
    "\n",
    "# Probability of background for each (cell, protein)\n",
    "py_mixing = full_posterior.sequential().get_sample_mixing(n_samples=n_samples, give_mean=True)\n",
    "protein_foreground_prob = pd.DataFrame(\n",
    "    data=(1 - py_mixing), columns=parsed_protein_names\n",
    ")"
   ]
  },
  {
   "cell_type": "code",
   "execution_count": null,
   "metadata": {},
   "outputs": [],
   "source": [
    "### Denoised genes, denoised proteins\n",
    "denoised_genes, denoised_proteins = full_posterior.sequential().get_normalized_denoised_expression(\n",
    "    n_samples=n_samples, give_mean=True, transform_batch=[0,1]\n",
    ")\n",
    "print(denoised_genes.shape)\n",
    "print(denoised_proteins.shape)"
   ]
  },
  {
   "cell_type": "code",
   "execution_count": null,
   "metadata": {},
   "outputs": [],
   "source": [
    "len(parsed_protein_names)"
   ]
  },
  {
   "cell_type": "code",
   "execution_count": null,
   "metadata": {},
   "outputs": [],
   "source": [
    "### Get raw values\n",
    "combined_protein = all_dataset.protein_expression"
   ]
  },
  {
   "cell_type": "code",
   "execution_count": null,
   "metadata": {},
   "outputs": [],
   "source": [
    "print(combined_protein.shape)\n",
    "print(protein_foreground_prob.shape)\n",
    "print(denoised_proteins.shape)"
   ]
  },
  {
   "cell_type": "code",
   "execution_count": null,
   "metadata": {},
   "outputs": [],
   "source": [
    "### Add normalised protein values to post_adata (via obs)\n",
    "for i, p in enumerate(parsed_protein_names):\n",
    "    post_adata.obs[\"{}_fore_prob\".format(p)] = protein_foreground_prob[p].values\n",
    "    post_adata.obs[\"{}_observed\".format(p)] = combined_protein[:, i]"
   ]
  },
  {
   "cell_type": "code",
   "execution_count": null,
   "metadata": {},
   "outputs": [],
   "source": [
    "### Add normalised protein values to post_adata (via obs)\n",
    "for i, p in enumerate(parsed_protein_names):\n",
    "    post_adata.obs[\"{}\".format(p)] = denoised_proteins[:, i]"
   ]
  },
  {
   "cell_type": "code",
   "execution_count": null,
   "metadata": {},
   "outputs": [],
   "source": [
    "### Add normalised gene values to post_adata (via layer)\n",
    "post_adata.layers[\"norm_genes\"] = denoised_genes"
   ]
  },
  {
   "cell_type": "code",
   "execution_count": null,
   "metadata": {},
   "outputs": [],
   "source": [
    "post_adata.obs"
   ]
  },
  {
   "cell_type": "code",
   "execution_count": null,
   "metadata": {},
   "outputs": [],
   "source": [
    "post_adata.layers[\"norm_genes\"]"
   ]
  },
  {
   "cell_type": "markdown",
   "metadata": {},
   "source": [
    "# Get normalised data full dataset"
   ]
  },
  {
   "cell_type": "code",
   "execution_count": null,
   "metadata": {},
   "outputs": [],
   "source": [
    "all_dataset_full"
   ]
  },
  {
   "cell_type": "code",
   "execution_count": null,
   "metadata": {},
   "outputs": [],
   "source": [
    "post_adata_full = sc.AnnData(X=all_dataset_full.X)\n",
    "post_adata_full.var.index = all_dataset_full.gene_names"
   ]
  },
  {
   "cell_type": "code",
   "execution_count": null,
   "metadata": {},
   "outputs": [],
   "source": [
    "sc.pp.normalize_total(post_adata_full, target_sum=1e4, exclude_highly_expressed=True)"
   ]
  },
  {
   "cell_type": "code",
   "execution_count": null,
   "metadata": {},
   "outputs": [],
   "source": [
    "sc.pp.log1p(post_adata_full)"
   ]
  },
  {
   "cell_type": "code",
   "execution_count": null,
   "metadata": {},
   "outputs": [],
   "source": [
    "post_adata_full.layers[\"rawDataFull\"] = all_dataset_full.X"
   ]
  },
  {
   "cell_type": "code",
   "execution_count": null,
   "metadata": {},
   "outputs": [],
   "source": [
    "post_adata_full.obsm[\"X_totalVI\"] = latent\n",
    "post_adata_full.obsm['X_umap']=post_adata.obsm['X_umap']"
   ]
  },
  {
   "cell_type": "code",
   "execution_count": null,
   "metadata": {},
   "outputs": [],
   "source": [
    "print(post_adata_full.layers[\"rawDataFull\"].shape)\n",
    "print(post_adata_full.X.shape)\n",
    "print(post_adata.layers[\"norm_genes\"].shape)"
   ]
  },
  {
   "cell_type": "code",
   "execution_count": null,
   "metadata": {},
   "outputs": [],
   "source": [
    "##### Prepare for saving #####\n",
    "normData=post_adata_full.X\n",
    "normData.shape"
   ]
  },
  {
   "cell_type": "code",
   "execution_count": null,
   "metadata": {},
   "outputs": [],
   "source": [
    "### Save\n",
    "import scipy.io\n",
    "scipy.io.mmwrite(sampleFolder+\"PATH/TO/normData.mtx\", normData)"
   ]
  },
  {
   "cell_type": "markdown",
   "metadata": {},
   "source": [
    "# Plot Genes"
   ]
  },
  {
   "cell_type": "code",
   "execution_count": null,
   "metadata": {},
   "outputs": [],
   "source": [
    "### For example\n",
    "geneSymbol='ALB'"
   ]
  },
  {
   "cell_type": "code",
   "execution_count": null,
   "metadata": {},
   "outputs": [],
   "source": [
    "### Plot gene expression - raw data\n",
    "sc.pl.umap(\n",
    "    post_adata_full,\n",
    "    color=geneSymbol,\n",
    "    show=True,\n",
    "    layer=\"rawDataFull\",\n",
    "    vmax='p99'\n",
    ")"
   ]
  },
  {
   "cell_type": "code",
   "execution_count": null,
   "metadata": {},
   "outputs": [],
   "source": [
    "### Plot gene expression - normData full\n",
    "sc.pl.umap(\n",
    "    post_adata_full,\n",
    "    color=geneSymbol,\n",
    "    show=True,\n",
    "    vmax='p99'\n",
    ")"
   ]
  },
  {
   "cell_type": "code",
   "execution_count": null,
   "metadata": {},
   "outputs": [],
   "source": [
    "### Plot gene expression - denoised genes\n",
    "sc.pl.umap(\n",
    "    post_adata,\n",
    "    color=geneSymbol,\n",
    "    show=True,\n",
    "    layer='norm_genes',\n",
    "    vmax='p99'\n",
    ")"
   ]
  },
  {
   "cell_type": "markdown",
   "metadata": {},
   "source": [
    "# Plot ABs"
   ]
  },
  {
   "cell_type": "code",
   "execution_count": null,
   "metadata": {},
   "outputs": [],
   "source": [
    "### Plot expression of each AB\n",
    "for i in range(0, len(parsed_protein_names)):\n",
    "    ABname=parsed_protein_names[i]\n",
    "    print(i)\n",
    "    ABplot=sc.pl.umap(\n",
    "        post_adata,\n",
    "        color=ABname,\n",
    "        show=False,\n",
    "        vmax=\"p99\",\n",
    "        cmap=\"coolwarm\",\n",
    "        alpha=0.9,\n",
    "        return_fig=True\n",
    "    )\n",
    "    fileName='plot_'+ABname+'.png'\n",
    "    ABplot.savefig(sampleFolder+\"PATH/TO/\"+fileName, dpi=200, bbox_inches='tight')"
   ]
  },
  {
   "cell_type": "code",
   "execution_count": null,
   "metadata": {},
   "outputs": [],
   "source": [
    "### Plot AB expression - observed\n",
    "sc.pl.umap(\n",
    "    post_adata,\n",
    "    color=['adt-CLEC4F.1_observed'],\n",
    "    show=True,\n",
    "    vmax=\"p99\",\n",
    "    cmap=\"bwr\",\n",
    "    alpha=0.9\n",
    ")"
   ]
  },
  {
   "cell_type": "code",
   "execution_count": null,
   "metadata": {},
   "outputs": [],
   "source": [
    "### Plot AB expression - foreground probability\n",
    "sc.pl.umap(\n",
    "    post_adata,\n",
    "    color=['adt-CLEC4F.1_fore_prob'],\n",
    "    show=True,\n",
    "    vmax=\"p99\",\n",
    "    cmap=\"bwr\",\n",
    "    alpha=0.9\n",
    ")"
   ]
  },
  {
   "cell_type": "markdown",
   "metadata": {},
   "source": [
    "# Save post_adata"
   ]
  },
  {
   "cell_type": "code",
   "execution_count": null,
   "metadata": {},
   "outputs": [],
   "source": [
    "post_adata.obs[\"sample\"] = post_adata.obs[\"sample\"].astype(\"str\")\n",
    "post_adata.obs[\"louvain\"] = post_adata.obs[\"louvain\"].astype(\"int\")"
   ]
  },
  {
   "cell_type": "code",
   "execution_count": null,
   "metadata": {},
   "outputs": [],
   "source": [
    "### Save\n",
    "import pickle\n",
    "pickle.dump(post_adata, open(sampleFolder+\"PATH/TO/post_adata.pkl\", \"wb\"))"
   ]
  },
  {
   "cell_type": "markdown",
   "metadata": {},
   "source": [
    "# Reload"
   ]
  },
  {
   "cell_type": "code",
   "execution_count": null,
   "metadata": {},
   "outputs": [],
   "source": [
    "### Load data again\n",
    "import pickle\n",
    "post_adata = pickle.load(open(sampleFolder+\"PATH/TO/post_adata.pkl\", \"rb\"))"
   ]
  },
  {
   "cell_type": "code",
   "execution_count": null,
   "metadata": {},
   "outputs": [],
   "source": [
    "post_adata.obs['sample'] = post_adata.obs['sample'].astype('category')\n",
    "post_adata.obs['louvain'] = post_adata.obs['louvain'].astype('category')"
   ]
  },
  {
   "cell_type": "code",
   "execution_count": null,
   "metadata": {
    "scrolled": true
   },
   "outputs": [],
   "source": [
    "post_adata.obs"
   ]
  },
  {
   "cell_type": "code",
   "execution_count": null,
   "metadata": {},
   "outputs": [],
   "source": [
    "### Create umap\n",
    "sc.pl.umap(\n",
    "    post_adata, \n",
    "    color=\"louvain\",\n",
    "    ncols=1,\n",
    "    alpha=0.9,\n",
    "    legend_loc=\"on data\"\n",
    ")"
   ]
  },
  {
   "cell_type": "markdown",
   "metadata": {},
   "source": [
    "# DE genes/proteins per cluster"
   ]
  },
  {
   "cell_type": "code",
   "execution_count": null,
   "metadata": {
    "scrolled": true
   },
   "outputs": [],
   "source": [
    "### Get clusters\n",
    "clusters = post_adata.obs.louvain.values.astype(int)\n",
    "print(clusters.shape)"
   ]
  },
  {
   "cell_type": "code",
   "execution_count": null,
   "metadata": {},
   "outputs": [],
   "source": [
    "np.array(np.unique(clusters, return_counts=True)).T"
   ]
  },
  {
   "cell_type": "code",
   "execution_count": null,
   "metadata": {},
   "outputs": [],
   "source": [
    "### Calculate markers for each cluster\n",
    "per_cluster_de, cluster_id = full_posterior.one_vs_all_degenes(\n",
    "    cell_labels=clusters,\n",
    "    min_cells=1,\n",
    "    n_samples=5000,\n",
    "    use_permutation=False,\n",
    "    mode=\"change\",\n",
    "    delta=0.2\n",
    ")"
   ]
  },
  {
   "cell_type": "code",
   "execution_count": null,
   "metadata": {},
   "outputs": [],
   "source": [
    "allGenes_rna = []\n",
    "allABs_adt = []\n",
    "for i, cid in enumerate(cluster_id):\n",
    "    pcd = per_cluster_de[i].sort_values(\"lfc_median\", ascending=False)\n",
    "\n",
    "    pro_rows = pcd.index.str.contains('adt')\n",
    "    data_rna = pcd.iloc[~pro_rows]\n",
    "    data_pro = pcd.iloc[pro_rows]\n",
    "\n",
    "    allGenes_rna.append(data_rna)\n",
    "    allABs_adt.append(data_pro)\n",
    "\n",
    "allGenesTable=pd.concat(allGenes_rna)\n",
    "allABsTable=pd.concat(allABs_adt)"
   ]
  },
  {
   "cell_type": "markdown",
   "metadata": {},
   "source": [
    "## DE genes"
   ]
  },
  {
   "cell_type": "code",
   "execution_count": null,
   "metadata": {},
   "outputs": [],
   "source": [
    "### Get DE genes: function\n",
    "def getDEgenes_perCluster(per_cluster_de, cluster_id):\n",
    "    filtered_rna = []\n",
    "    for i, cid in enumerate(cluster_id):\n",
    "        pcd = per_cluster_de[i].sort_values(\"lfc_median\", ascending=False)\n",
    "\n",
    "        pcd = pcd[pcd.lfc_median > 0.5]\n",
    "\n",
    "        pro_rows = pcd.index.str.contains('adt')\n",
    "        data_rna = pcd.iloc[~pro_rows]\n",
    "        data_rna = data_rna[data_rna[\"bayes_factor\"] > 1]\n",
    "        data_rna = data_rna[data_rna[\"non_zeros_proportion1\"] > 0.30]\n",
    "        \n",
    "        data_rna[\"score\"] = data_rna[\"raw_normalized_mean1\"]/data_rna[\"raw_normalized_mean2\"]*data_rna[\"lfc_mean\"]\n",
    "\n",
    "        filtered_rna.append(data_rna)\n",
    "    \n",
    "    toReturn=pd.concat(filtered_rna)\n",
    "    toReturn=toReturn.sort_values(['clusters', 'lfc_median'], ascending=[True, False])\n",
    "    return(toReturn)"
   ]
  },
  {
   "cell_type": "code",
   "execution_count": null,
   "metadata": {},
   "outputs": [],
   "source": [
    "### Get DE genes\n",
    "clustermarkers = getDEgenes_perCluster(per_cluster_de, cluster_id)\n",
    "columns_oi=['proba_de','bayes_factor','lfc_mean','lfc_median','raw_normalized_mean1','raw_normalized_mean2','clusters','score']\n",
    "clustermarkers[columns_oi]"
   ]
  },
  {
   "cell_type": "code",
   "execution_count": null,
   "metadata": {},
   "outputs": [],
   "source": [
    "clustermarkers.shape"
   ]
  },
  {
   "cell_type": "code",
   "execution_count": null,
   "metadata": {},
   "outputs": [],
   "source": [
    "np.array(np.unique(clustermarkers['clusters'], return_counts=True)).T"
   ]
  },
  {
   "cell_type": "code",
   "execution_count": null,
   "metadata": {},
   "outputs": [],
   "source": [
    "### Get markers of certain cluster\n",
    "tmp=clustermarkers[clustermarkers['clusters']==1]\n",
    "tmp[columns_oi]"
   ]
  },
  {
   "cell_type": "markdown",
   "metadata": {},
   "source": [
    "### Write to Excel"
   ]
  },
  {
   "cell_type": "code",
   "execution_count": null,
   "metadata": {},
   "outputs": [],
   "source": [
    "import xlsxwriter\n",
    "# Create a Pandas Excel writer using XlsxWriter as the engine.\n",
    "fileName = sampleFolder+'PATH/TO/DEgenes_totalVI.xlsx'\n",
    "writer = pd.ExcelWriter(fileName, engine='xlsxwriter')\n",
    "\n",
    "clusterIDs=np.array(np.unique(clustermarkers.clusters))\n",
    "for clusterID in clusterIDs:\n",
    "    tmp=clustermarkers[clustermarkers.clusters==clusterID]\n",
    "    tmp.to_excel(writer, sheet_name='cl'+str(clusterID))\n",
    "    \n",
    "# Close the Pandas Excel writer and output the Excel file.\n",
    "writer.save()"
   ]
  },
  {
   "cell_type": "markdown",
   "metadata": {},
   "source": [
    "## DE proteins"
   ]
  },
  {
   "cell_type": "code",
   "execution_count": null,
   "metadata": {},
   "outputs": [],
   "source": [
    "### Get DE proteins: function\n",
    "def getDEproteins_perCluster(per_cluster_de, cluster_id):\n",
    "    filtered_pro = []\n",
    "    for i, cid in enumerate(cluster_id):\n",
    "        pcd = per_cluster_de[i].sort_values(\"lfc_median\", ascending=False)\n",
    "\n",
    "        pcd = pcd[pcd.lfc_median > 0.5]\n",
    "\n",
    "        pro_rows = pcd.index.str.contains('adt')\n",
    "        data_pro = pcd.iloc[pro_rows]\n",
    "        data_pro = data_pro[data_pro[\"bayes_factor\"] > 0.7]\n",
    "        \n",
    "        data_pro[\"score\"] = data_pro[\"raw_mean1\"]/data_pro[\"raw_mean2\"]*data_pro[\"lfc_mean\"]\n",
    "\n",
    "        filtered_pro.append(data_pro)\n",
    "    \n",
    "    toReturn=pd.concat(filtered_pro)\n",
    "    toReturn=toReturn.sort_values(['clusters', 'lfc_median'], ascending=[True, False])\n",
    "    return(toReturn)"
   ]
  },
  {
   "cell_type": "code",
   "execution_count": null,
   "metadata": {},
   "outputs": [],
   "source": [
    "### Get DE proteins: function\n",
    "def getDEproteins_perCluster_lessStrict(per_cluster_de, cluster_id):\n",
    "    filtered_pro = []\n",
    "    for i, cid in enumerate(cluster_id):\n",
    "        pcd = per_cluster_de[i].sort_values(\"lfc_median\", ascending=False)\n",
    "\n",
    "        pcd = pcd[pcd.proba_de > 0.05]\n",
    "\n",
    "        pro_rows = pcd.index.str.contains('adt')\n",
    "        data_pro = pcd.iloc[pro_rows]\n",
    "        \n",
    "        data_pro[\"score\"] = data_pro[\"raw_mean1\"]/data_pro[\"raw_mean2\"]*data_pro[\"lfc_mean\"]\n",
    "        data_pro = data_pro[data_pro.score >= 1]\n",
    "\n",
    "        filtered_pro.append(data_pro)\n",
    "    \n",
    "    toReturn=pd.concat(filtered_pro)\n",
    "    toReturn=toReturn.sort_values(['clusters', 'lfc_median'], ascending=[True, False])\n",
    "    return(toReturn)"
   ]
  },
  {
   "cell_type": "code",
   "execution_count": null,
   "metadata": {
    "scrolled": true
   },
   "outputs": [],
   "source": [
    "### Get DE proteins\n",
    "clusterproteins = getDEproteins_perCluster_lessStrict(per_cluster_de, cluster_id)\n",
    "columns_oi=['proba_de','bayes_factor','lfc_mean','lfc_median','raw_mean1','raw_mean2','clusters','score']\n",
    "clusterproteins[columns_oi]"
   ]
  },
  {
   "cell_type": "code",
   "execution_count": null,
   "metadata": {},
   "outputs": [],
   "source": [
    "np.array(np.unique(clusterproteins['clusters'], return_counts=True)).T"
   ]
  },
  {
   "cell_type": "code",
   "execution_count": null,
   "metadata": {},
   "outputs": [],
   "source": [
    "### Get proteins of certain cluster\n",
    "tmp=clusterproteins[clusterproteins['clusters']==1]\n",
    "tmp[columns_oi]"
   ]
  },
  {
   "cell_type": "markdown",
   "metadata": {},
   "source": [
    "### Write to Excel"
   ]
  },
  {
   "cell_type": "code",
   "execution_count": null,
   "metadata": {},
   "outputs": [],
   "source": [
    "import xlsxwriter\n",
    "# Create a Pandas Excel writer using XlsxWriter as the engine.\n",
    "fileName = sampleFolder+'PATH/TO/DEantibodies_totalVI.xlsx'\n",
    "writer = pd.ExcelWriter(fileName, engine='xlsxwriter')\n",
    "\n",
    "clusterIDs=np.array(np.unique(clusterproteins.clusters))\n",
    "for clusterID in clusterIDs:\n",
    "    tmp=clusterproteins[clusterproteins.clusters==clusterID]\n",
    "    tmp.to_excel(writer, sheet_name='cl'+str(clusterID))\n",
    "    \n",
    "# Close the Pandas Excel writer and output the Excel file.\n",
    "writer.save()"
   ]
  }
 ],
 "metadata": {
  "kernelspec": {
   "display_name": "Python 3",
   "language": "python",
   "name": "python3"
  },
  "language_info": {
   "codemirror_mode": {
    "name": "ipython",
    "version": 3
   },
   "file_extension": ".py",
   "mimetype": "text/x-python",
   "name": "python",
   "nbconvert_exporter": "python",
   "pygments_lexer": "ipython3",
   "version": "3.7.9"
  }
 },
 "nbformat": 4,
 "nbformat_minor": 4
}
